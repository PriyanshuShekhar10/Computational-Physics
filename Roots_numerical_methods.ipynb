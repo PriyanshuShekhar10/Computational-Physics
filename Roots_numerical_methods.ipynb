{
  "nbformat": 4,
  "nbformat_minor": 0,
  "metadata": {
    "colab": {
      "provenance": [],
      "authorship_tag": "ABX9TyPbDJmDXD+iG7cL9v4EuVbC",
      "include_colab_link": true
    },
    "kernelspec": {
      "name": "python3",
      "display_name": "Python 3"
    },
    "language_info": {
      "name": "python"
    }
  },
  "cells": [
    {
      "cell_type": "markdown",
      "metadata": {
        "id": "view-in-github",
        "colab_type": "text"
      },
      "source": [
        "<a href=\"https://colab.research.google.com/github/PriyanshuShekhar10/Computational-Physics/blob/main/Roots_numerical_methods.ipynb\" target=\"_parent\"><img src=\"https://colab.research.google.com/assets/colab-badge.svg\" alt=\"Open In Colab\"/></a>"
      ]
    },
    {
      "cell_type": "code",
      "source": [
        "#mass spring system euler.py\n",
        "import matplotlib.pyplot as plt\n",
        "import numpy as np\n",
        "import matplotlib as mpl\n",
        "\n",
        "#constants\n",
        "\n",
        "m = 1.0        #mass\n",
        "k = 10.0       #spring constant\n",
        "x0 = 1.0       #initial position\n",
        "v0 = 0.0       #initial velocity\n",
        "h = 0.001        #time step\n",
        "t_final = 100.0 #final time\n",
        "\n",
        "\n",
        "t_values= [0.0]\n",
        "x_values = [x0]\n",
        "v_values = [v0]\n",
        "\n",
        "\n",
        "t =0\n",
        "x=x0\n",
        "v=v0\n",
        "\n",
        "while t< t_final:\n",
        "  a = (-k * x) /m\n",
        "\n",
        "  x = x + h*v\n",
        "  v = v + h*a\n",
        "\n",
        "  t+=h\n",
        "  t_values.append(t)\n",
        "  x_values.append(x)\n",
        "  v_values.append(v)\n",
        "\n",
        "\n",
        "plt.figure(figsize=(10,6))\n",
        "plt.plot(t_values, x_values, label='Position(x)')\n",
        "plt.plot(t_values, v_values, label='Velocity(v)')\n",
        "plt.xlabel('Time')\n",
        "plt.ylabel('Position (m) / Velocity(m/s)')\n",
        "plt.legend()\n",
        "plt.grid(True)\n",
        "plt.show()"
      ],
      "metadata": {
        "id": "gnOyufbv-FPV"
      },
      "execution_count": null,
      "outputs": []
    }
  ]
}